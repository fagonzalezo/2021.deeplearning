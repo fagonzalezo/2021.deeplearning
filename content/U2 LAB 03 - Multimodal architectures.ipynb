{
 "cells": [
  {
   "cell_type": "markdown",
   "metadata": {},
   "source": [
    "# LAB 2.3 - Multimodal architectures"
   ]
  },
  {
   "cell_type": "code",
   "execution_count": 2,
   "metadata": {},
   "outputs": [],
   "source": [
    "!wget -nc --no-cache -O init.py -q https://raw.githubusercontent.com/rramosp/2021.deeplearning/main/content/init.py\n",
    "import init; init.init(force_download=False); "
   ]
  },
  {
   "cell_type": "code",
   "execution_count": 2,
   "metadata": {},
   "outputs": [
    {
     "data": {
      "text/plain": [
       "'2.0.0'"
      ]
     },
     "execution_count": 2,
     "metadata": {},
     "output_type": "execute_result"
    }
   ],
   "source": [
    "import sys\n",
    "if 'google.colab' in sys.modules:\n",
    "    print (\"setting tensorflow version in colab\")\n",
    "    %tensorflow_version 2.x\n",
    "import tensorflow as tf\n",
    "tf.__version__"
   ]
  },
  {
   "cell_type": "code",
   "execution_count": 1,
   "metadata": {},
   "outputs": [],
   "source": [
    "import numpy as np\n",
    "import matplotlib.pyplot as plt\n",
    "import pandas as pd\n",
    "import itertools\n",
    "from IPython.display import Image\n",
    "\n",
    "%matplotlib inline"
   ]
  },
  {
   "cell_type": "code",
   "execution_count": 2,
   "metadata": {},
   "outputs": [
    {
     "name": "stdout",
     "output_type": "stream",
     "text": [
      "dimension de las imagenes y las clases (1500, 784) (1500,)\n"
     ]
    }
   ],
   "source": [
    "mnist = pd.read_csv(\"data/mnist1.5k.csv.gz\", compression=\"gzip\", header=None).values\n",
    "X=mnist[:,1:785]/255.\n",
    "y=mnist[:,0]\n",
    "print(\"dimension de las imagenes y las clases\", X.shape, y.shape)"
   ]
  },
  {
   "cell_type": "code",
   "execution_count": 3,
   "metadata": {},
   "outputs": [
    {
     "name": "stdout",
     "output_type": "stream",
     "text": [
      "(300, 784) (300, 10) (1200, 784) (1200, 10)\n"
     ]
    }
   ],
   "source": [
    "X_train, X_test, y_train, y_test = X[:300], X[300:], y[:300], y[300:]\n",
    "y_train_oh = np.eye(10)[y_train]\n",
    "y_test_oh  = np.eye(10)[y_test]\n",
    "print(X_train.shape, y_train_oh.shape,  X_test.shape, y_test_oh.shape)"
   ]
  },
  {
   "cell_type": "markdown",
   "metadata": {},
   "source": [
    "## Network architectures lab\n",
    "\n",
    "\n",
    "from the notes we have two architectures:\n",
    "    \n",
    "- **A**: Three layer network accepting a 784 element vector as input and outputing a 10-class vector\n",
    "- **B**: Same as **A** but accepts an additional 2 element vector with _evenness_ information that is injected at the third layer.\n",
    "\n",
    "This lab requires you to do two things:\n",
    "\n",
    "**1**. Create a **C** architecture similar to **B** but where the 2 element vector is injected at the second layer. This will make the network have 41,650 parameters, distributed in the following way:\n",
    "   \n",
    "   \n",
    "\n",
    "        INPUT 1 to LAYER 1:              784*50 + 50 (bias) = 39250\n",
    "        LAYER 1 to LAYER 2:               50*30 + 30 (bias) = 1530\n",
    "        LAYER 2 + INPUT 2 to LAYER 3: (30+2)*20 + 20 (bias) = 660\n",
    "        LAYER 3 to OUTPUT:                20*10 + 10 (bias) = 210\n",
    "    \n",
    "                                                       TOTAL 41650\n",
    "                                                       \n",
    "**2**. Run an experimental setup where you train different network configurations and measure the accuracy on test data. Fix the number of neurons to 50, 30 and 20 for each layer and the following combination of parameters:\n",
    "\n",
    "- For architecture **A** (3 configurations)\n",
    "\n",
    "    `s3_activation` $\\in$ `[\"linear\", \"relu\", \"tanh\"]`\n",
    "\n",
    "- For architectures **B** and **C** (15 configurations for each architecture)\n",
    "\n",
    "    `s3_activation` $\\in$ `[\"linear\", \"relu\", \"tanh\"]`\n",
    "    \n",
    "    `k1,k2` $\\in$ `[(0,1), (-.5,2),(-.5,30), (0,15),(0,30)]`\n",
    "\n",
    "And create a heat map showing the accuracy in test obtained for each configuration, such as the following (your results should be approximate to this):"
   ]
  },
  {
   "cell_type": "code",
   "execution_count": 2,
   "metadata": {},
   "outputs": [
    {
     "data": {
      "image/png": "[encoded data removed]",
      "text/plain": [
       "<IPython.core.display.Image object>"
      ]
     },
     "execution_count": 2,
     "metadata": {},
     "output_type": "execute_result"
    }
   ],
   "source": [
    "Image(filename='local/imgs/mm_results_1.png')"
   ]
  },
  {
   "cell_type": "markdown",
   "metadata": {},
   "source": [
    "And two bar plots with the average per architecture and k1,k2 configuration, such as the following (again, your results should be approximetely similar):"
   ]
  },
  {
   "cell_type": "code",
   "execution_count": 3,
   "metadata": {
    "scrolled": true
   },
   "outputs": [
    {
     "data": {
      "image/png": "[encoded data removed]",
      "text/plain": [
       "<IPython.core.display.Image object>"
      ]
     },
     "execution_count": 3,
     "metadata": {},
     "output_type": "execute_result"
    }
   ],
   "source": [
    "Image(filename='local/imgs/mm_results_2.png')"
   ]
  },
  {
   "cell_type": "code",
   "execution_count": null,
   "metadata": {},
   "outputs": [],
   "source": []
  },
  {
   "cell_type": "markdown",
   "metadata": {},
   "source": [
    "### Model definitions"
   ]
  },
  {
   "cell_type": "code",
   "execution_count": 17,
   "metadata": {},
   "outputs": [],
   "source": [
    "from tensorflow.keras import Sequential, Model\n",
    "from tensorflow.keras.layers import Dense, Dropout, Flatten, concatenate, Input\n",
    "from tensorflow.keras.backend import clear_session"
   ]
  },
  {
   "cell_type": "code",
   "execution_count": 6,
   "metadata": {},
   "outputs": [],
   "source": [
    "def get_model_A(input_dim, s1, s2, s3, s3_activation=\"relu\"):\n",
    "    clear_session()\n",
    "    model = Sequential()\n",
    "\n",
    "    ... COPY FROM NOTES ...\n",
    "    \n",
    "    return model"
   ]
  },
  {
   "cell_type": "code",
   "execution_count": 7,
   "metadata": {},
   "outputs": [],
   "source": [
    "def get_model_B(input_dim, extra_info_dim,  s1, s2, s3, s3_activation=\"relu\"):\n",
    "    clear_session()\n",
    "\n",
    "    ... COPY FROM NOTES ...    \n",
    "    \n",
    "    return model "
   ]
  },
  {
   "cell_type": "code",
   "execution_count": 8,
   "metadata": {},
   "outputs": [],
   "source": [
    "def get_model_C(input_dim, extra_info_dim, s1, s2, s3, s3_activation=\"relu\"):\n",
    "    clear_session()\n",
    "\n",
    "    \n",
    "    ... CREATE MODEL ...    \n",
    "    \n",
    "    return model"
   ]
  },
  {
   "cell_type": "code",
   "execution_count": 9,
   "metadata": {},
   "outputs": [],
   "source": [
    "def get_X_extra(y_train, y_test, k0, k1):\n",
    "    X_train_extra = (np.eye(2)[y_train%2]+k0)*k1\n",
    "    X_test_extra  = (np.eye(2)[y_test%2]+k0)*k1\n",
    "    return X_train_extra, X_test_extra"
   ]
  },
  {
   "cell_type": "markdown",
   "metadata": {},
   "source": [
    "### Use the following dataframe to record your data "
   ]
  },
  {
   "cell_type": "code",
   "execution_count": 3,
   "metadata": {},
   "outputs": [
    {
     "data": {
      "text/html": [
       "<div>\n",
       "<style scoped>\n",
       "    .dataframe tbody tr th:only-of-type {\n",
       "        vertical-align: middle;\n",
       "    }\n",
       "\n",
       "    .dataframe tbody tr th {\n",
       "        vertical-align: top;\n",
       "    }\n",
       "\n",
       "    .dataframe thead th {\n",
       "        text-align: right;\n",
       "    }\n",
       "</style>\n",
       "<table border=\"1\" class=\"dataframe\">\n",
       "  <thead>\n",
       "    <tr style=\"text-align: right;\">\n",
       "      <th></th>\n",
       "      <th>(0, 1)</th>\n",
       "      <th>(-0.5, 2)</th>\n",
       "      <th>(-0.5, 30)</th>\n",
       "      <th>(0, 15)</th>\n",
       "      <th>(0, 30)</th>\n",
       "      <th>None</th>\n",
       "    </tr>\n",
       "  </thead>\n",
       "  <tbody>\n",
       "    <tr>\n",
       "      <th>A-linear</th>\n",
       "      <td>NaN</td>\n",
       "      <td>NaN</td>\n",
       "      <td>NaN</td>\n",
       "      <td>NaN</td>\n",
       "      <td>NaN</td>\n",
       "      <td>NaN</td>\n",
       "    </tr>\n",
       "    <tr>\n",
       "      <th>A-relu</th>\n",
       "      <td>NaN</td>\n",
       "      <td>NaN</td>\n",
       "      <td>NaN</td>\n",
       "      <td>NaN</td>\n",
       "      <td>NaN</td>\n",
       "      <td>NaN</td>\n",
       "    </tr>\n",
       "    <tr>\n",
       "      <th>A-tanh</th>\n",
       "      <td>NaN</td>\n",
       "      <td>NaN</td>\n",
       "      <td>NaN</td>\n",
       "      <td>NaN</td>\n",
       "      <td>NaN</td>\n",
       "      <td>NaN</td>\n",
       "    </tr>\n",
       "    <tr>\n",
       "      <th>B-linear</th>\n",
       "      <td>NaN</td>\n",
       "      <td>NaN</td>\n",
       "      <td>NaN</td>\n",
       "      <td>NaN</td>\n",
       "      <td>NaN</td>\n",
       "      <td>NaN</td>\n",
       "    </tr>\n",
       "    <tr>\n",
       "      <th>B-relu</th>\n",
       "      <td>NaN</td>\n",
       "      <td>NaN</td>\n",
       "      <td>NaN</td>\n",
       "      <td>NaN</td>\n",
       "      <td>NaN</td>\n",
       "      <td>NaN</td>\n",
       "    </tr>\n",
       "    <tr>\n",
       "      <th>B-tanh</th>\n",
       "      <td>NaN</td>\n",
       "      <td>NaN</td>\n",
       "      <td>NaN</td>\n",
       "      <td>NaN</td>\n",
       "      <td>NaN</td>\n",
       "      <td>NaN</td>\n",
       "    </tr>\n",
       "    <tr>\n",
       "      <th>C-linear</th>\n",
       "      <td>NaN</td>\n",
       "      <td>NaN</td>\n",
       "      <td>NaN</td>\n",
       "      <td>NaN</td>\n",
       "      <td>NaN</td>\n",
       "      <td>NaN</td>\n",
       "    </tr>\n",
       "    <tr>\n",
       "      <th>C-relu</th>\n",
       "      <td>NaN</td>\n",
       "      <td>NaN</td>\n",
       "      <td>NaN</td>\n",
       "      <td>NaN</td>\n",
       "      <td>NaN</td>\n",
       "      <td>NaN</td>\n",
       "    </tr>\n",
       "    <tr>\n",
       "      <th>C-tanh</th>\n",
       "      <td>NaN</td>\n",
       "      <td>NaN</td>\n",
       "      <td>NaN</td>\n",
       "      <td>NaN</td>\n",
       "      <td>NaN</td>\n",
       "      <td>NaN</td>\n",
       "    </tr>\n",
       "  </tbody>\n",
       "</table>\n",
       "</div>"
      ],
      "text/plain": [
       "          (0, 1)  (-0.5, 2)  (-0.5, 30)  (0, 15)  (0, 30)  None\n",
       "A-linear     NaN        NaN         NaN      NaN      NaN   NaN\n",
       "A-relu       NaN        NaN         NaN      NaN      NaN   NaN\n",
       "A-tanh       NaN        NaN         NaN      NaN      NaN   NaN\n",
       "B-linear     NaN        NaN         NaN      NaN      NaN   NaN\n",
       "B-relu       NaN        NaN         NaN      NaN      NaN   NaN\n",
       "B-tanh       NaN        NaN         NaN      NaN      NaN   NaN\n",
       "C-linear     NaN        NaN         NaN      NaN      NaN   NaN\n",
       "C-relu       NaN        NaN         NaN      NaN      NaN   NaN\n",
       "C-tanh       NaN        NaN         NaN      NaN      NaN   NaN"
      ]
     },
     "execution_count": 3,
     "metadata": {},
     "output_type": "execute_result"
    }
   ],
   "source": [
    "k_set     = [(0,1), (-.5,2),(-.5,30), (0,15),(0,30), None]\n",
    "act_set   = [\"linear\", \"relu\", \"tanh\"]\n",
    "arch_set  = [\"A\", \"B\", \"C\"]\n",
    "\n",
    "\n",
    "r_test = pd.DataFrame(np.zeros((len(arch_set)*len(act_set), len(k_set)))*np.nan, \n",
    "                      index=[[a+\"-\"+b for a,b in itertools.product (arch_set, act_set)]],\n",
    "                      columns=[str(i) for i in k_set])\n",
    "r_test"
   ]
  },
  {
   "cell_type": "markdown",
   "metadata": {},
   "source": [
    "### Build a loop over the configurations"
   ]
  },
  {
   "cell_type": "code",
   "execution_count": null,
   "metadata": {},
   "outputs": [],
   "source": [
    "for k, act, arch in itertools.product(k_set, act_set, arch_set):\n",
    "    \n",
    "    print (\"%10s %8s %1s\"%(str(k), act, arch))    \n",
    "    \n",
    "    ... PERFORM EXPERIMENT ACCORDING TO PARAMETERS ...\n",
    "    \n",
    "\n"
   ]
  },
  {
   "cell_type": "code",
   "execution_count": null,
   "metadata": {},
   "outputs": [],
   "source": [
    "r_test"
   ]
  },
  {
   "cell_type": "markdown",
   "metadata": {},
   "source": [
    "### Build the heatmap"
   ]
  },
  {
   "cell_type": "code",
   "execution_count": null,
   "metadata": {},
   "outputs": [],
   "source": [
    "plt.figure(figsize=(8,3))\n",
    "\n",
    "... YOUR CODE HERE ..."
   ]
  },
  {
   "cell_type": "markdown",
   "metadata": {},
   "source": [
    "### Build the bar plots"
   ]
  },
  {
   "cell_type": "code",
   "execution_count": null,
   "metadata": {},
   "outputs": [],
   "source": [
    "plt.figure(figsize=(15,4))\n",
    "plt.subplot(121)\n",
    "\n",
    "... YOUR CODE HERE ...\n",
    "\n",
    "plt.subplot(122)\n",
    "\n",
    "... YOUR CODE HERE ..."
   ]
  },
  {
   "cell_type": "code",
   "execution_count": null,
   "metadata": {},
   "outputs": [],
   "source": []
  }
 ],
 "metadata": {
  "kernelspec": {
   "display_name": "Python 3",
   "language": "python",
   "name": "python3"
  },
  "language_info": {
   "codemirror_mode": {
    "name": "ipython",
    "version": 3
   },
   "file_extension": ".py",
   "mimetype": "text/x-python",
   "name": "python",
   "nbconvert_exporter": "python",
   "pygments_lexer": "ipython3",
   "version": "3.7.3"
  }
 },
 "nbformat": 4,
 "nbformat_minor": 2
}