{
 "cells": [
  {
   "cell_type": "markdown",
   "metadata": {},
   "source": [
    "# 2.2 - The Multilayer Perceptron"
   ]
  },
  {
   "cell_type": "code",
   "execution_count": 1,
   "metadata": {},
   "outputs": [],
   "source": [
    "!wget -nc --no-cache -O init.py -q https://raw.githubusercontent.com/rramosp/2021.deeplearning/main/content/init.py\n",
    "import init; init.init(force_download=False); "
   ]
  },
  {
   "cell_type": "markdown",
   "metadata": {},
   "source": [
    "## Classifying Fashion-MNIST\n",
    "\n",
    "You will have to create a classification model for the [Fashion-MNIST dataset](https://github.com/zalandoresearch/fashion-mnist) dataset, a drop-in replacement for the MNIST dataset. MNIST is actually quite trivial with neural networks where you can easily achieve better than 97% accuracy. Fashion-MNIST is a set of 28x28 greyscale images of clothes. It's more complex than MNIST, so it's a better representation of the actual performance of your network."
   ]
  },
  {
   "cell_type": "code",
   "execution_count": 2,
   "metadata": {},
   "outputs": [],
   "source": [
    "import os\n",
    "import gzip\n",
    "import numpy as np\n",
    "import matplotlib.pyplot as plt\n",
    "import warnings; warnings.simplefilter('ignore')\n",
    "import tensorflow as tf"
   ]
  },
  {
   "cell_type": "code",
   "execution_count": 3,
   "metadata": {},
   "outputs": [],
   "source": [
    "from tensorflow.keras import datasets\n",
    "(x_train, y_train), (x_test, y_test) = datasets.fashion_mnist.load_data()\n",
    "X_train = x_train.reshape(x_train.shape[0],x_train.shape[1]*x_train.shape[2])\n",
    "X_test = x_test.reshape(x_test.shape[0],x_test.shape[1]*x_test.shape[2])"
   ]
  },
  {
   "cell_type": "code",
   "execution_count": 4,
   "metadata": {},
   "outputs": [
    {
     "name": "stdout",
     "output_type": "stream",
     "text": [
      "(60000, 784)\n",
      "(60000,)\n",
      "(10000, 784)\n",
      "(10000,)\n"
     ]
    }
   ],
   "source": [
    "print(X_train.shape)\n",
    "print(y_train.shape)\n",
    "print(X_test.shape)\n",
    "print(y_test.shape)"
   ]
  },
  {
   "cell_type": "markdown",
   "metadata": {},
   "source": [
    "Let's see a random sample"
   ]
  },
  {
   "cell_type": "code",
   "execution_count": 5,
   "metadata": {},
   "outputs": [
    {
     "data": {
      "image/png": "[encoded data removed]",
      "text/plain": [
       "<Figure size 432x288 with 1 Axes>"
      ]
     },
     "metadata": {
      "needs_background": "light"
     },
     "output_type": "display_data"
    }
   ],
   "source": [
    "ind = np.random.permutation(X_train.shape[0])\n",
    "plt.imshow(x_train[ind[0],:,:], cmap='gray');"
   ]
  },
  {
   "cell_type": "markdown",
   "metadata": {},
   "source": [
    "Preparing the data for a training process..."
   ]
  },
  {
   "cell_type": "code",
   "execution_count": 6,
   "metadata": {},
   "outputs": [],
   "source": [
    "from tensorflow.keras import utils \n",
    "from sklearn.preprocessing import StandardScaler\n",
    "\n",
    "input_dim = X_train.shape[1]\n",
    "\n",
    "scaler = StandardScaler()\n",
    "X_trainN = scaler.fit_transform(X_train)\n",
    "X_testN = scaler.transform(X_test)\n",
    "\n",
    "# convert list of labels to binary class matrix\n",
    "y_trainOHE = utils.to_categorical(y_train)\n",
    "nb_classes = y_trainOHE.shape[1]"
   ]
  },
  {
   "cell_type": "markdown",
   "metadata": {},
   "source": [
    "## Define the network architecture using keras\n",
    "\n",
    "### Sequential models"
   ]
  },
  {
   "cell_type": "code",
   "execution_count": 7,
   "metadata": {},
   "outputs": [],
   "source": [
    "from tensorflow.keras.models import Sequential\n",
    "from tensorflow.keras.layers import Dense, Activation\n",
    "\n",
    "model = Sequential([\n",
    "    Dense(32, input_shape=(input_dim,)),\n",
    "    Activation('tanh'),\n",
    "    Dense(nb_classes),\n",
    "    Activation('softmax'),\n",
    "])"
   ]
  },
  {
   "cell_type": "markdown",
   "metadata": {},
   "source": [
    "or"
   ]
  },
  {
   "cell_type": "code",
   "execution_count": 8,
   "metadata": {},
   "outputs": [],
   "source": [
    "del model\n",
    "model = Sequential()\n",
    "model.add(Dense(64, input_dim=input_dim))\n",
    "model.add(Activation('tanh'))\n",
    "model.add(Dense(32))\n",
    "model.add(Activation('tanh'))\n",
    "model.add(Dense(nb_classes, activation='softmax'))"
   ]
  },
  {
   "cell_type": "markdown",
   "metadata": {},
   "source": [
    "**Assignment**: Take a look to the core layers in keras: https://keras.io/layers/core/ and the set of basic parameters https://keras.io/layers/about-keras-layers/"
   ]
  },
  {
   "cell_type": "code",
   "execution_count": 9,
   "metadata": {},
   "outputs": [
    {
     "name": "stdout",
     "output_type": "stream",
     "text": [
      "Model: \"sequential_1\"\n",
      "_________________________________________________________________\n",
      "Layer (type)                 Output Shape              Param #   \n",
      "=================================================================\n",
      "dense_2 (Dense)              (None, 64)                50240     \n",
      "_________________________________________________________________\n",
      "activation_2 (Activation)    (None, 64)                0         \n",
      "_________________________________________________________________\n",
      "dense_3 (Dense)              (None, 32)                2080      \n",
      "_________________________________________________________________\n",
      "activation_3 (Activation)    (None, 32)                0         \n",
      "_________________________________________________________________\n",
      "dense_4 (Dense)              (None, 10)                330       \n",
      "=================================================================\n",
      "Total params: 52,650\n",
      "Trainable params: 52,650\n",
      "Non-trainable params: 0\n",
      "_________________________________________________________________\n"
     ]
    }
   ],
   "source": [
    "model.summary()"
   ]
  },
  {
   "cell_type": "markdown",
   "metadata": {},
   "source": [
    "Once the arquictecture of model has been defined, the next step is to set the loss function and optimizer"
   ]
  },
  {
   "cell_type": "code",
   "execution_count": 10,
   "metadata": {},
   "outputs": [],
   "source": [
    "# pass optimizer by name: default parameters will be used\n",
    "model.compile(loss='categorical_crossentropy', optimizer='sgd')\n",
    "\n",
    "from tensorflow.keras import optimizers\n",
    "# or instantiate an optimizer before passing it to model.compile\n",
    "sgd = optimizers.SGD(lr=0.01, decay=1e-6, momentum=0.9, nesterov=True)\n",
    "model.compile(loss='categorical_crossentropy', optimizer=sgd)"
   ]
  },
  {
   "cell_type": "markdown",
   "metadata": {},
   "source": [
    "Remember the definition of cross entropy:\n",
    "\n",
    "$$\\mathcal{L}({\\bf{\\hat{y}}},{\\bf{y}}) = -\\frac{1}{N}\\sum_{i=1}^N y_i\\log(\\hat{y}_i) + (1-y_i)\\log(1-\\hat{y}_i)$$\n",
    "\n",
    "The categorical cross entropy can be defined as:\n",
    "\n",
    "$$\\mathcal{L}({\\bf{\\hat{y}}},{\\bf{y}}) = -\\frac{1}{N}\\sum_{i=1}^N \\sum_{j=1}^C {\\bf{1}}_{y_i \\in C_j} \\log p_{model}[y_i \\in C_j]$$\n",
    "\n",
    "The term ${\\bf{1}}_{y_i \\in C_j}$ is the indicator function of the $i$-th observation belonging to the $j$-th category. The $p_{model}[y_i \\in C_j]$ is the probability predicted by the model for the $i$-th observation to belong to the $j$-th category. When there are more than two categories, the neural network outputs a vector of $C$ probabilities, each giving the probability that the network input should be classified as belonging to the respective category. When the number of categories is just two, the neural network outputs a single probability $\\hat{y}_i$, with the other one being $1$ minus the output. This is why the binary cross entropy looks a bit different from categorical cross entropy, despite being a special case of it. "
   ]
  },
  {
   "cell_type": "markdown",
   "metadata": {},
   "source": [
    "**Note**. If insteat of a multi-class problem we would be facing a multi-label classification problem, the activation function of the last layer must be a **sigmoid** and the loss function **binary_crossentropy**."
   ]
  },
  {
   "cell_type": "markdown",
   "metadata": {},
   "source": [
    "Take a look to compile and fit parameters https://keras.io/models/model/#compile"
   ]
  },
  {
   "cell_type": "code",
   "execution_count": 11,
   "metadata": {},
   "outputs": [
    {
     "name": "stdout",
     "output_type": "stream",
     "text": [
      "Training...\n",
      "Generating test predictions...\n"
     ]
    }
   ],
   "source": [
    "print(\"Training...\")\n",
    "model.train_on_batch(X_trainN, y_trainOHE)\n",
    "\n",
    "print(\"Generating test predictions...\")\n",
    "preds = model.predict(X_testN[0,:].reshape(1,input_dim), verbose=0)"
   ]
  },
  {
   "cell_type": "code",
   "execution_count": 12,
   "metadata": {},
   "outputs": [
    {
     "name": "stdout",
     "output_type": "stream",
     "text": [
      "real class\n",
      "9\n"
     ]
    },
    {
     "data": {
      "image/png": "[encoded data removed]",
      "text/plain": [
       "<Figure size 432x288 with 2 Axes>"
      ]
     },
     "metadata": {
      "needs_background": "light"
     },
     "output_type": "display_data"
    }
   ],
   "source": [
    "print('real class')\n",
    "print(y_test[0])\n",
    "\n",
    "objects = ('Ankle Boot', 'Bag', 'Sneaker', 'Shirt', 'Sandal', 'Coat', 'Dress', 'Pullover', 'Trouser', 'T-shirt/top')\n",
    "y_pos = np.arange(nb_classes)\n",
    "performance = preds.flatten()\n",
    "plt.subplot(121)\n",
    "plt.imshow(X_test[0,:].reshape(28,28), cmap='gray');\n",
    "plt.subplot(122) \n",
    "plt.barh(y_pos[::-1], performance, align='center', alpha=0.5)\n",
    "plt.yticks(y_pos, objects)\n",
    "plt.xlabel('Probability')\n",
    "plt.title('Network outputs')\n",
    "plt.subplots_adjust(wspace = 1)\n",
    "plt.show()"
   ]
  },
  {
   "cell_type": "code",
   "execution_count": 13,
   "metadata": {},
   "outputs": [
    {
     "name": "stdout",
     "output_type": "stream",
     "text": [
      "Training...\n",
      "Train on 54000 samples, validate on 6000 samples\n",
      "Epoch 1/10\n",
      "54000/54000 - 3s - loss: 0.4610 - val_loss: 0.3979\n",
      "Epoch 2/10\n",
      "54000/54000 - 3s - loss: 0.3688 - val_loss: 0.3801\n",
      "Epoch 3/10\n",
      "54000/54000 - 3s - loss: 0.3396 - val_loss: 0.3620\n",
      "Epoch 4/10\n",
      "54000/54000 - 3s - loss: 0.3186 - val_loss: 0.3637\n",
      "Epoch 5/10\n",
      "54000/54000 - 3s - loss: 0.3000 - val_loss: 0.3596\n",
      "Epoch 6/10\n",
      "54000/54000 - 3s - loss: 0.2882 - val_loss: 0.3553\n",
      "Epoch 7/10\n",
      "54000/54000 - 3s - loss: 0.2791 - val_loss: 0.3418\n",
      "Epoch 8/10\n",
      "54000/54000 - 3s - loss: 0.2682 - val_loss: 0.3346\n",
      "Epoch 9/10\n",
      "54000/54000 - 3s - loss: 0.2577 - val_loss: 0.3618\n",
      "Epoch 10/10\n",
      "54000/54000 - 3s - loss: 0.2533 - val_loss: 0.3547\n"
     ]
    },
    {
     "data": {
      "text/plain": [
       "<tensorflow.python.keras.callbacks.History at 0x7ff31956cda0>"
      ]
     },
     "execution_count": 13,
     "metadata": {},
     "output_type": "execute_result"
    }
   ],
   "source": [
    "print(\"Training...\")\n",
    "model.fit(X_trainN, y_trainOHE, epochs=10, batch_size=16, validation_split=0.1, verbose=2)"
   ]
  },
  {
   "cell_type": "code",
   "execution_count": 14,
   "metadata": {},
   "outputs": [
    {
     "name": "stdout",
     "output_type": "stream",
     "text": [
      "Generating test predictions...\n"
     ]
    },
    {
     "data": {
      "image/png": "[encoded data removed]",
      "text/plain": [
       "<Figure size 432x288 with 1 Axes>"
      ]
     },
     "metadata": {
      "needs_background": "light"
     },
     "output_type": "display_data"
    }
   ],
   "source": [
    "print(\"Generating test predictions...\")\n",
    "preds = model.predict(X_testN[0,:].reshape(1,input_dim), verbose=0)\n",
    "performance = preds.flatten()\n",
    " \n",
    "plt.barh(y_pos[::-1], performance, align='center', alpha=0.5)\n",
    "plt.yticks(y_pos, objects)\n",
    "plt.xlabel('Probability')\n",
    "plt.title('Network outputs')\n",
    " \n",
    "plt.show()"
   ]
  },
  {
   "cell_type": "code",
   "execution_count": 15,
   "metadata": {},
   "outputs": [
    {
     "name": "stdout",
     "output_type": "stream",
     "text": [
      "Accuracy =  86.48 %\n"
     ]
    }
   ],
   "source": [
    "preds = model.predict_classes(X_testN, verbose=0)\n",
    "Accuracy = np.mean(preds == y_test)\n",
    "print('Accuracy = ', Accuracy*100, '%')"
   ]
  },
  {
   "cell_type": "code",
   "execution_count": 16,
   "metadata": {},
   "outputs": [
    {
     "data": {
      "image/png": "[encoded data removed]",
      "text/plain": [
       "<Figure size 720x720 with 2 Axes>"
      ]
     },
     "metadata": {
      "needs_background": "light"
     },
     "output_type": "display_data"
    }
   ],
   "source": [
    "from sklearn.metrics import confusion_matrix\n",
    "cm = confusion_matrix(y_test, preds)\n",
    "cm = cm/np.sum(cm,axis=0)\n",
    "cmap = plt.cm.Blues\n",
    "tick_marks = np.arange(nb_classes)\n",
    "fig, ax = plt.subplots(figsize=(10,10))\n",
    "im = ax.imshow(cm, interpolation='nearest', cmap=cmap)\n",
    "for i in range(cm.shape[0]):\n",
    "    for j in range(cm.shape[1]):\n",
    "        text = ax.text(j, i, np.around(cm[i, j],decimals=2),\n",
    "                       ha=\"center\", va=\"center\", color=\"w\")\n",
    "plt.title('Normalized confusion matrix')\n",
    "fig.colorbar(im)\n",
    "plt.xticks(tick_marks, objects, rotation=45)\n",
    "plt.yticks(tick_marks, objects);"
   ]
  },
  {
   "cell_type": "markdown",
   "metadata": {},
   "source": [
    "### Functional models"
   ]
  },
  {
   "cell_type": "markdown",
   "metadata": {},
   "source": [
    "The Keras functional API provides a more flexible way for defining models.\n",
    "\n",
    "It allows you to define multiple input or output models as well as models that share layers. More than that, it allows you to define ad hoc acyclic network graphs.\n",
    "\n",
    "Models are defined by creating instances of layers and connecting them directly to each other in pairs, then defining a Model that specifies the layers to act as the input and output to the model."
   ]
  },
  {
   "cell_type": "code",
   "execution_count": 18,
   "metadata": {},
   "outputs": [],
   "source": [
    "from tensorflow.keras.layers import Input, Dense\n",
    "from tensorflow.keras.models import Model\n",
    "\n",
    "\n",
    "# This returns a tensor\n",
    "inputs = Input(shape=(784,))\n",
    "\n",
    "# a layer instance is callable on a tensor, and returns a tensor\n",
    "x = Dense(64, activation='tanh')(inputs)\n",
    "x = Dense(32, activation='tanh')(x)\n",
    "predictions = Dense(nb_classes, activation='softmax')(x)\n",
    "\n",
    "# This creates a model that includes\n",
    "# the Input layer and three Dense layers\n",
    "model = Model(inputs=inputs, outputs=predictions)\n",
    "model.compile(optimizer='sgd',\n",
    "              loss='categorical_crossentropy',\n",
    "              metrics=['accuracy'])"
   ]
  },
  {
   "cell_type": "code",
   "execution_count": 19,
   "metadata": {},
   "outputs": [
    {
     "name": "stdout",
     "output_type": "stream",
     "text": [
      "Model: \"model\"\n",
      "_________________________________________________________________\n",
      "Layer (type)                 Output Shape              Param #   \n",
      "=================================================================\n",
      "input_1 (InputLayer)         [(None, 784)]             0         \n",
      "_________________________________________________________________\n",
      "dense_5 (Dense)              (None, 64)                50240     \n",
      "_________________________________________________________________\n",
      "dense_6 (Dense)              (None, 32)                2080      \n",
      "_________________________________________________________________\n",
      "dense_7 (Dense)              (None, 10)                330       \n",
      "=================================================================\n",
      "Total params: 52,650\n",
      "Trainable params: 52,650\n",
      "Non-trainable params: 0\n",
      "_________________________________________________________________\n"
     ]
    }
   ],
   "source": [
    "model.summary()"
   ]
  },
  {
   "cell_type": "code",
   "execution_count": 20,
   "metadata": {},
   "outputs": [
    {
     "name": "stdout",
     "output_type": "stream",
     "text": [
      "Train on 54000 samples, validate on 6000 samples\n",
      "Epoch 1/10\n",
      "54000/54000 - 3s - loss: 0.5584 - accuracy: 0.8156 - val_loss: 0.4238 - val_accuracy: 0.8513\n",
      "Epoch 2/10\n",
      "54000/54000 - 3s - loss: 0.3912 - accuracy: 0.8642 - val_loss: 0.3771 - val_accuracy: 0.8650\n",
      "Epoch 3/10\n",
      "54000/54000 - 3s - loss: 0.3507 - accuracy: 0.8771 - val_loss: 0.3640 - val_accuracy: 0.8692\n",
      "Epoch 4/10\n",
      "54000/54000 - 3s - loss: 0.3245 - accuracy: 0.8856 - val_loss: 0.3506 - val_accuracy: 0.8745\n",
      "Epoch 5/10\n",
      "54000/54000 - 3s - loss: 0.3040 - accuracy: 0.8941 - val_loss: 0.3473 - val_accuracy: 0.8742\n",
      "Epoch 6/10\n",
      "54000/54000 - 3s - loss: 0.2873 - accuracy: 0.8984 - val_loss: 0.3423 - val_accuracy: 0.8760\n",
      "Epoch 7/10\n",
      "54000/54000 - 3s - loss: 0.2729 - accuracy: 0.9036 - val_loss: 0.3391 - val_accuracy: 0.8755\n",
      "Epoch 8/10\n",
      "54000/54000 - 3s - loss: 0.2598 - accuracy: 0.9078 - val_loss: 0.3307 - val_accuracy: 0.8800\n",
      "Epoch 9/10\n",
      "54000/54000 - 3s - loss: 0.2486 - accuracy: 0.9124 - val_loss: 0.3305 - val_accuracy: 0.8835\n",
      "Epoch 10/10\n",
      "54000/54000 - 3s - loss: 0.2373 - accuracy: 0.9163 - val_loss: 0.3372 - val_accuracy: 0.8790\n"
     ]
    },
    {
     "data": {
      "text/plain": [
       "<tensorflow.python.keras.callbacks.History at 0x7ff2f0058940>"
      ]
     },
     "execution_count": 20,
     "metadata": {},
     "output_type": "execute_result"
    }
   ],
   "source": [
    "model.fit(X_trainN, y_trainOHE, epochs=10, batch_size=16, validation_split=0.1, verbose=2)"
   ]
  },
  {
   "cell_type": "code",
   "execution_count": 21,
   "metadata": {},
   "outputs": [
    {
     "name": "stdout",
     "output_type": "stream",
     "text": [
      "Accuracy =  87.4 %\n"
     ]
    }
   ],
   "source": [
    "preds = model.predict(X_testN, verbose=0)\n",
    "preds = np.argmax(preds,axis=1)\n",
    "Accuracy = np.mean(preds == y_test)\n",
    "print('Accuracy = ', Accuracy*100, '%')"
   ]
  },
  {
   "cell_type": "markdown",
   "metadata": {},
   "source": [
    "**Note**. Take a look to the keras functional API available on https://keras.io/getting-started/functional-api-guide/"
   ]
  }
 ],
 "metadata": {
  "kernelspec": {
   "display_name": "Python 3",
   "language": "python",
   "name": "python3"
  },
  "language_info": {
   "codemirror_mode": {
    "name": "ipython",
    "version": 3
   },
   "file_extension": ".py",
   "mimetype": "text/x-python",
   "name": "python",
   "nbconvert_exporter": "python",
   "pygments_lexer": "ipython3",
   "version": "3.7.3"
  }
 },
 "nbformat": 4,
 "nbformat_minor": 2
}
