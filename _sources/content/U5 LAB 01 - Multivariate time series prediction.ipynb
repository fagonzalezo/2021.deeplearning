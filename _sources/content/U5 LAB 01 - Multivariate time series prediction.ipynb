{
 "cells": [
  {
   "cell_type": "markdown",
   "metadata": {},
   "source": [
    "# LAB 5.1 - Time series prediction"
   ]
  },
  {
   "cell_type": "code",
   "execution_count": 1,
   "metadata": {},
   "outputs": [],
   "source": [
    "!wget -nc --no-cache -O init.py -q https://raw.githubusercontent.com/rramosp/2021.deeplearning/main/content/init.py\n",
    "import init; init.init(force_download=False); init.get_weblink() "
   ]
  },
  {
   "cell_type": "code",
   "execution_count": 3,
   "metadata": {},
   "outputs": [],
   "source": [
    "from local.lib.rlxmoocapi import submit, session\n",
    "import inspect\n",
    "student = session.Session(init.endpoint).login( course_id=init.course_id, lab_id=\"L05.01\" )"
   ]
  },
  {
   "cell_type": "code",
   "execution_count": 3,
   "metadata": {},
   "outputs": [],
   "source": [
    "import sys\n",
    "if 'google.colab' in sys.modules:\n",
    "    print (\"setting tensorflow version in colab\")\n",
    "    %tensorflow_version 2.x\n",
    "    %load_ext tensorboard\n",
    "import tensorflow as tf\n",
    "tf.__version__"
   ]
  },
  {
   "cell_type": "code",
   "execution_count": 9,
   "metadata": {},
   "outputs": [],
   "source": [
    "import numpy as np\n",
    "import matplotlib.pyplot as plt\n",
    "%matplotlib inline"
   ]
  },
  {
   "cell_type": "markdown",
   "metadata": {},
   "source": [
    "## Context \n",
    "\n",
    "The aim of this LAB is to test the capacity of recurrent networks to predict future values of pollution based on past vallues of pollution and other environmental time series.\n",
    "\n",
    "Load data:"
   ]
  },
  {
   "cell_type": "code",
   "execution_count": 70,
   "metadata": {},
   "outputs": [],
   "source": [
    "from pandas import read_csv\n",
    "from datetime import datetime\n",
    "# load data\n",
    "def parse(x):\n",
    "    return datetime.strptime(x, '%Y %m %d %H')\n",
    "dataset = read_csv('local/data/raw.csv',  parse_dates = [['year', 'month', 'day', 'hour']], index_col=0, date_parser=parse)\n",
    "dataset.drop('No', axis=1, inplace=True)\n",
    "# manually specify column names\n",
    "dataset.columns = ['pollution', 'dew', 'temp', 'press', 'wnd_dir', 'wnd_spd', 'snow', 'rain']\n",
    "dataset.index.name = 'date'\n",
    "# mark all NA values with 0\n",
    "dataset['pollution'].fillna(0, inplace=True)\n",
    "# drop the first 24 hours\n",
    "dataset = dataset[24:]\n",
    "# summarize first 5 rows\n",
    "print(dataset.head(5))\n",
    "# save to file\n",
    "dataset.to_csv('local/data/pollution.csv',compression='gzip')"
   ]
  },
  {
   "cell_type": "markdown",
   "metadata": {},
   "source": [
    "Let's take a look at the time series:"
   ]
  },
  {
   "cell_type": "code",
   "execution_count": 71,
   "metadata": {},
   "outputs": [],
   "source": [
    "from pandas import read_csv\n",
    "# load dataset\n",
    "dataset = read_csv('local/data/pollution.csv', compression='gzip', header=0, index_col=0)\n",
    "# specify columns to plot\n",
    "groups = [0, 1, 2, 3, 5, 6, 7]\n",
    "i = 1\n",
    "# plot each column\n",
    "plt.figure(figsize=(10,10))\n",
    "for group in groups:\n",
    "    plt.subplot(len(groups), 1, i)\n",
    "    plt.plot(dataset.values[:, group])\n",
    "    plt.title(dataset.columns[group], y=0.5, loc='right')\n",
    "    i += 1\n",
    "plt.show()"
   ]
  },
  {
   "cell_type": "code",
   "execution_count": 4,
   "metadata": {},
   "outputs": [],
   "source": [
    "dataset.columns[0]"
   ]
  },
  {
   "cell_type": "code",
   "execution_count": 11,
   "metadata": {},
   "outputs": [],
   "source": [
    "MVSeries = dataset.values"
   ]
  },
  {
   "cell_type": "markdown",
   "metadata": {},
   "source": [
    "## TASK 1.\n",
    "\n",
    "In order to train a DL model for time series prediction, the first step is to split the data correctly. Define a function valled create_datasetMV that takes the dataset of environmental time series (MVSeries), and return two arrays: the input array and the target array. This function will be used to set up the data for predicting the next value of the pollution time series. During the experiments, we are going to test different look backs (observations of the time series in past times), so the function should have an input parameter to define this number."
   ]
  },
  {
   "cell_type": "markdown",
   "metadata": {},
   "source": [
    "**Hint**:\n",
    "\n",
    "The original data is organized in a matrix where rows are observations and columns are variables.\n",
    "\n",
    "First of all, create a function to format the data as the model requires: [n_samples,n_times,n_features]\n",
    "\n",
    "Takes as reference the following function where the input dataset is a univariate time series:"
   ]
  },
  {
   "cell_type": "code",
   "execution_count": 103,
   "metadata": {},
   "outputs": [],
   "source": [
    "def create_dataset(dataset, look_back=1):\n",
    "    dataX, dataY = [], []\n",
    "    for i in range(len(dataset)-look_back):\n",
    "        a = dataset[i:(i+look_back)]\n",
    "        dataX.append(a)\n",
    "        dataY.append(dataset[i + look_back])\n",
    "    return np.array(dataX), np.array(dataY)"
   ]
  },
  {
   "cell_type": "code",
   "execution_count": null,
   "metadata": {},
   "outputs": [],
   "source": [
    "def create_datasetMV(dataset, look_back=1):\n",
    "    dataX, dataY = ...\n",
    "    return dataX, dataY"
   ]
  },
  {
   "cell_type": "markdown",
   "metadata": {},
   "source": [
    "test your code with the following case, which should get the following results:\n",
    "\n",
    "(5, 2, 4) (5,)\n",
    "\n",
    "--\n",
    "\n",
    "[[ 0  7 14 21]\n",
    " [ 1  8 15 22]] 2\n",
    " \n",
    "--\n",
    "\n",
    "[[ 1  8 15 22]\n",
    " [ 2  9 16 23]] 3\n",
    " \n",
    "--\n",
    " \n",
    " (3, 4, 4) (3,)\n",
    "\n",
    "--\n",
    "\n",
    "[[ 0  7 14 21]\n",
    " [ 1  8 15 22]\n",
    " [ 2  9 16 23]\n",
    " [ 3 10 17 24]] 4\n",
    "\n",
    "--\n",
    "\n",
    "[[ 1  8 15 22]\n",
    " [ 2  9 16 23]\n",
    " [ 3 10 17 24]\n",
    " [ 4 11 18 25]] 5"
   ]
  },
  {
   "cell_type": "code",
   "execution_count": 18,
   "metadata": {},
   "outputs": [],
   "source": [
    "timeseries = np.arange(28).reshape(4,7)\n",
    "X_temp, Y_temp = create_datasetMV(timeseries.T, look_back=2)\n",
    "print(X_temp.shape,Y_temp.shape)\n",
    "print('--------------------------')\n",
    "print(X_temp[0,:,:], Y_temp[0])\n",
    "print('--------------------------')\n",
    "print(X_temp[1,:,:], Y_temp[1])\n",
    "print('--------------------------')\n",
    "X_temp, Y_temp = create_datasetMV(timeseries.T, look_back=4)\n",
    "print(X_temp.shape,Y_temp.shape)\n",
    "print('--------------------------')\n",
    "print(X_temp[0,:,:], Y_temp[0])\n",
    "print('--------------------------')\n",
    "print(X_temp[1,:,:], Y_temp[1])"
   ]
  },
  {
   "cell_type": "code",
   "execution_count": 42,
   "metadata": {},
   "outputs": [],
   "source": []
  },
  {
   "cell_type": "markdown",
   "metadata": {},
   "source": [
    "**Submit your solution:**"
   ]
  },
  {
   "cell_type": "code",
   "execution_count": 12,
   "metadata": {},
   "outputs": [],
   "source": [
    "student.submit_task(namespace=globals(), course_id=init.course_id, lab_id='L05.01', task_id='T1');"
   ]
  },
  {
   "cell_type": "markdown",
   "metadata": {},
   "source": [
    "## Task 2. \n",
    "\n",
    "Create a function that takes as input one type of recurrent layer from this set: 'SimpleRNN', 'LSTM', or 'GRU', and return an instances of a DL model. The model must use two recurrent layers (of selected type) with 10 neurons each, and one output layer with only one single output.\n",
    "\n",
    "You must return an instance of a `Sequential` model. **DO NOT** invoke `compile` or `fit`."
   ]
  },
  {
   "cell_type": "code",
   "execution_count": null,
   "metadata": {},
   "outputs": [],
   "source": [
    "def Recurrent_Model(X_train,layer_type='SimpleRNN'):#Options for layer_type: 'SimpleRNN', 'LSTM', 'GRU'\n",
    "    #X_train is used for setting input_shape dimensions\n",
    "    model = ...\n",
    "    return model"
   ]
  },
  {
   "cell_type": "markdown",
   "metadata": {},
   "source": [
    "**Submit your solution:**"
   ]
  },
  {
   "cell_type": "code",
   "execution_count": 41,
   "metadata": {},
   "outputs": [],
   "source": [
    "student.submit_task(namespace=globals(), course_id=init.course_id, lab_id='L05.01', task_id='T2');"
   ]
  },
  {
   "cell_type": "markdown",
   "metadata": {},
   "source": [
    "### Let's train the models: \n",
    "\n",
    "**Warning**: Run this part only if you have already passed Tasks 1 and 2."
   ]
  },
  {
   "cell_type": "code",
   "execution_count": 49,
   "metadata": {},
   "outputs": [],
   "source": [
    "from local.lib.DataPreparationRNN import DataPreparation, TrainModel, Plot_Task2\n",
    "from sklearn.metrics import mean_squared_error\n",
    "\n",
    "look_back = 1\n",
    "X_train, y_train, X_test, y_test, scaler = DataPreparation(MVSeries,look_back, create_datasetMV)\n",
    "model = Recurrent_Model(X_train)\n",
    "model = TrainModel(X_train,y_train,model)\n",
    "y_est = model.predict(X_test)\n",
    "print('RMSE con los datos normalizados')\n",
    "print(np.sqrt(mean_squared_error(y_test.flatten(), y_est.flatten())))\n",
    "print('RMSE con los datos en la magnitud original')\n",
    "print(np.sqrt(mean_squared_error(scaler.inverse_transform(y_test.reshape(-1,1)), scaler.inverse_transform(y_est))))"
   ]
  },
  {
   "cell_type": "code",
   "execution_count": 11,
   "metadata": {},
   "outputs": [],
   "source": [
    "mse = np.zeros((3,5))\n",
    "for i in range(1,6):\n",
    "    X_train, y_train, X_test, y_test, scaler = DataPreparation(MVSeries,i,create_datasetMV)\n",
    "    for j,k in enumerate(['LSTM','GRU','SimpleRNN']):    \n",
    "        model = Recurrent_Model(X_train,layer=k)\n",
    "        model = TrainModel(X_train,y_train,model)\n",
    "        y_est = model.predict(X_test)\n",
    "        mse[j,i-1] = np.sqrt(mean_squared_error(scaler.inverse_transform(y_test.reshape(-1,1)), scaler.inverse_transform(y_est)))\n",
    "Plot_Task2(mse)    "
   ]
  },
  {
   "cell_type": "markdown",
   "metadata": {},
   "source": [
    "<div class=\"alert alert-block alert-info\"><b>Note:</b>\n",
    "    \n",
    "A good exercise is to repeat the training process using a <a href=\"https://rramosp.github.io/2021.deeplearning/content/U5.00%20-%20Intro%20time%20series.html#\">time-series cross-validation strategy</a>, estimate confindence intervals, and include them into the plot.\n",
    "\n",
    "</div>"
   ]
  },
  {
   "cell_type": "markdown",
   "metadata": {},
   "source": [
    "### Let's see how the real and predicted time series look like:"
   ]
  },
  {
   "cell_type": "code",
   "execution_count": 50,
   "metadata": {},
   "outputs": [],
   "source": [
    "lookback = 3\n",
    "X_train, y_train, X_test, y_test, scaler = DataPreparation(MVSeries,lookback, create_datasetMV)\n",
    "model = Recurrent_Model(X_train,layer='LSTM')\n",
    "model = TrainModel(X_train,y_train,model)\n",
    "y_est = model.predict(X_test)"
   ]
  },
  {
   "cell_type": "code",
   "execution_count": 52,
   "metadata": {},
   "outputs": [],
   "source": [
    "times = MVSeries.shape[0]\n",
    "train_size = int(times * 0.67)\n",
    "    \n",
    "y_est_t = model.predict(X_train)\n",
    "trainPredictPlot = np.empty_like(MVSeries[:,0])\n",
    "trainPredictPlot[:] = np.nan\n",
    "trainPredictPlot[lookback:train_size] = scaler.inverse_transform(y_est_t).flatten()\n",
    "testPredictPlot = np.empty_like(MVSeries[:,0])\n",
    "testPredictPlot[:] = np.nan\n",
    "testPredictPlot[train_size:] = scaler.inverse_transform(y_est).flatten()\n",
    "\n",
    "plt.figure()\n",
    "plt.plot(MVSeries[-400:,0],label='Original series')\n",
    "#plt.plot(trainPredictPlot,label='train prediction',alpha=0.7)\n",
    "plt.plot(testPredictPlot[-400:],label='Predicted series',alpha=0.7)\n",
    "plt.title(f'Prediction of pollution for look_back={lookback}')\n",
    "plt.legend()\n",
    "plt.show()"
   ]
  },
  {
   "cell_type": "markdown",
   "metadata": {},
   "source": [
    "## Task 3\n",
    "\n",
    "Create two functions: \n",
    "\n",
    "- **create_datasetMV_MultipleTimes**: this function takes the MVSeries time series and return X and Y arrays to train a RNN.  Yet, in addition to dataset and lookback, the function should also receive one parameter to define the prediction horizon, i.e. the number of times ahead the model will predict (n_steps_ahead).\n",
    "\n",
    "\n",
    "- **Recurrent_Model_MO**: this function takes as input one type of recurrent layer from this set: 'SimpleRNN', 'LSTM', or 'GRU', and the same former prediction horizon parameter and return an instances of a DL model. The model must use two recurrent layers (of selected type) with 15 neurons each, and one output layer with n_steps_ahead outputs, the purpose is to build a model that predicts all the times ahead at once."
   ]
  },
  {
   "cell_type": "code",
   "execution_count": null,
   "metadata": {},
   "outputs": [],
   "source": [
    "def create_datasetMV_TimesAhead(dataset,look_back=1, n_steps_ahead=1):\n",
    "    dataX, dataY = ...\n",
    "    return dataX, dataY"
   ]
  },
  {
   "cell_type": "markdown",
   "metadata": {},
   "source": [
    "test your code with the following case, which should get the following results:\n",
    "\n",
    "(4, 2, 4) (4, 2)\n",
    "\n",
    "--\n",
    "[[ 0 10 20 30]\n",
    " [ 1 11 21 31]] [2 3]\n",
    " \n",
    "--\n",
    "[[ 2 12 22 32]\n",
    " [ 3 13 23 33]] [4 5]\n",
    " \n",
    "--\n",
    "(2, 4, 4) (2, 3)\n",
    "\n",
    "--\n",
    "[[ 0 10 20 30]\n",
    " [ 1 11 21 31]\n",
    " [ 2 12 22 32]\n",
    " [ 3 13 23 33]] [4 5 6]\n",
    " \n",
    "--\n",
    "[[ 3 13 23 33]\n",
    " [ 4 14 24 34]\n",
    " [ 5 15 25 35]\n",
    " [ 6 16 26 36]] [7 8 9]"
   ]
  },
  {
   "cell_type": "code",
   "execution_count": null,
   "metadata": {},
   "outputs": [],
   "source": [
    "timeseries = np.arange(40).reshape(4,10)\n",
    "X_temp, Y_temp = create_datasetMV_TimesAhead(timeseries.T, look_back=2, n_steps_ahead=2)\n",
    "print(X_temp.shape,Y_temp.shape)\n",
    "print('--------------------------')\n",
    "print(X_temp[0,:,:], Y_temp[0])\n",
    "print('--------------------------')\n",
    "print(X_temp[1,:,:], Y_temp[1])\n",
    "print('--------------------------')\n",
    "X_temp, Y_temp = create_datasetMV_TimesAhead(timeseries.T, look_back=4, n_steps_ahead=3)\n",
    "print(X_temp.shape,Y_temp.shape)\n",
    "print('--------------------------')\n",
    "print(X_temp[0,:,:], Y_temp[0])\n",
    "print('--------------------------')\n",
    "print(X_temp[1,:,:], Y_temp[1])"
   ]
  },
  {
   "cell_type": "code",
   "execution_count": null,
   "metadata": {},
   "outputs": [],
   "source": [
    "def Recurrent_Model_MO(X_train,layer_type='SimpleRNN',n_steps_ahead=1):#Options for layer_type: 'SimpleRNN', 'LSTM', 'GRU'\n",
    "    #X_train is used for setting input_shape dimensions\n",
    "    model = ...\n",
    "    return model"
   ]
  },
  {
   "cell_type": "markdown",
   "metadata": {},
   "source": [
    "**Submit your solution:**"
   ]
  },
  {
   "cell_type": "code",
   "execution_count": 10,
   "metadata": {},
   "outputs": [],
   "source": [
    "student.submit_task(namespace=globals(), course_id=init.course_id, lab_id='L05.01', task_id='T3');"
   ]
  },
  {
   "cell_type": "markdown",
   "metadata": {},
   "source": [
    "### Let's train the models: \n",
    "\n",
    "**Warning**: Run this part only if you have already passed Task 3."
   ]
  },
  {
   "cell_type": "code",
   "execution_count": 17,
   "metadata": {},
   "outputs": [],
   "source": [
    "from local.lib.DataPreparationRNN import DataPreparation_TimesAhead, TrainModel, Plot_Task2\n",
    "from sklearn.metrics import mean_squared_error\n",
    "\n",
    "look_back = 3\n",
    "n_steps_ahead = 2 \n",
    "X_train, y_train, X_test, y_test, scaler = DataPreparation_TimesAhead(MVSeries,look_back, n_steps_ahead, create_datasetMV_TimesAhead)\n",
    "model = Recurrent_Model_MO(X_train, n_steps_ahead=n_steps_ahead)\n",
    "model = TrainModel(X_train,y_train,model)\n",
    "y_est = model.predict(X_test)\n",
    "print('RMSE con los datos normalizados')\n",
    "print(np.sqrt(mean_squared_error(y_test.flatten(), y_est.flatten())))\n",
    "print('RMSE con los datos en la magnitud original')\n",
    "print(np.sqrt(mean_squared_error(scaler.inverse_transform(y_test.flatten().reshape(-1,1)), scaler.inverse_transform(y_est.flatten().reshape(-1,1)))))"
   ]
  },
  {
   "cell_type": "markdown",
   "metadata": {},
   "source": [
    "#### Let's see how the models perform for a 2 times ahead prediction:"
   ]
  },
  {
   "cell_type": "code",
   "execution_count": 25,
   "metadata": {},
   "outputs": [],
   "source": [
    "mse = np.zeros((3,5))\n",
    "n_steps = 2\n",
    "for i in range(1,6):\n",
    "    for j,k in enumerate(['LSTM','GRU','SimpleRNN']):\n",
    "        X_train, y_train, X_test, y_test, scaler = DataPreparation_TimesAhead(MVSeries,i, n_steps, create_datasetMV_TimesAhead)\n",
    "        model = Recurrent_Model_MO(X_train, k, n_steps_ahead=n_steps)\n",
    "        model = TrainModel(X_train,y_train,model)\n",
    "        y_est = model.predict(X_test)\n",
    "        mse[j,i-1] = np.sqrt(mean_squared_error(scaler.inverse_transform(y_test.flatten().reshape(-1,1)), scaler.inverse_transform(y_est.flatten().reshape(-1,1))))\n",
    "Plot_Task2(mse)"
   ]
  },
  {
   "cell_type": "markdown",
   "metadata": {},
   "source": [
    "Now for a 3 times ahead prediction..."
   ]
  },
  {
   "cell_type": "code",
   "execution_count": 26,
   "metadata": {},
   "outputs": [],
   "source": [
    "mse = np.zeros((3,5))\n",
    "n_steps = 3\n",
    "for i in range(1,6):\n",
    "    for j,k in enumerate(['LSTM','GRU','SimpleRNN']):\n",
    "        X_train, y_train, X_test, y_test, scaler = DataPreparation_TimesAhead(MVSeries,i, n_steps, create_datasetMV_TimesAhead)\n",
    "        model = Recurrent_Model_MO(X_train, k, n_steps_ahead=n_steps)\n",
    "        model = TrainModel(X_train,y_train,model)\n",
    "        y_est = model.predict(X_test)\n",
    "        mse[j,i-1] = np.sqrt(mean_squared_error(scaler.inverse_transform(y_test.flatten().reshape(-1,1)), scaler.inverse_transform(y_est.flatten().reshape(-1,1))))\n",
    "Plot_Task2(mse)"
   ]
  },
  {
   "cell_type": "markdown",
   "metadata": {},
   "source": [
    "## Task 4\n",
    "\n",
    "Create a function Recurrent_Model_ED to solve the same problem addressed in the former task, but using en encoder-decoder architecure. The encoder must be coposed of a stack of two recurrent layers of 15 neurons each and the decoder must be composed of one recurrent layer of 10 neurons. As in the previous task, the function must receive a layer_type parameter and a n_steps_ahead parameter to define the prediction horizon."
   ]
  },
  {
   "cell_type": "code",
   "execution_count": null,
   "metadata": {},
   "outputs": [],
   "source": [
    "def Recurrent_Model_ED(X_train,layer_type='SimpleRNN',n_steps_ahead=1):#Options for layer_type: 'SimpleRNN', 'LSTM', 'GRU'\n",
    "    #X_train is used for setting input_shape dimensions\n",
    "    model = ...\n",
    "    return model"
   ]
  },
  {
   "cell_type": "markdown",
   "metadata": {},
   "source": [
    "**Submit your solution:**"
   ]
  },
  {
   "cell_type": "code",
   "execution_count": 5,
   "metadata": {},
   "outputs": [],
   "source": [
    "student.submit_task(namespace=globals(), course_id=init.course_id, lab_id='L05.01', task_id='T4');"
   ]
  },
  {
   "cell_type": "markdown",
   "metadata": {},
   "source": [
    "### Let's train the models: \n",
    "\n",
    "**Warning**: Run this part only if you have already passed Tasks 3 and 4."
   ]
  },
  {
   "cell_type": "code",
   "execution_count": 14,
   "metadata": {},
   "outputs": [],
   "source": [
    "from local.lib.DataPreparationRNN import DataPreparation_TimesAhead, TrainModel, Plot_Task2\n",
    "from sklearn.metrics import mean_squared_error\n",
    "\n",
    "look_back = 3\n",
    "n_steps_ahead = 2 \n",
    "X_train, y_train, X_test, y_test, scaler = DataPreparation_TimesAhead(MVSeries,look_back, n_steps_ahead, create_datasetMV_TimesAhead)\n",
    "model = Recurrent_Model_ED(X_train, n_steps_ahead=n_steps_ahead)\n",
    "model = TrainModel(X_train,y_train,model)\n",
    "y_est = model.predict(X_test)\n",
    "print('RMSE con los datos normalizados')\n",
    "print(np.sqrt(mean_squared_error(y_test.flatten(), y_est.flatten())))\n",
    "print('RMSE con los datos en la magnitud original')\n",
    "print(np.sqrt(mean_squared_error(scaler.inverse_transform(y_test.flatten().reshape(-1,1)), scaler.inverse_transform(y_est.flatten().reshape(-1,1)))))"
   ]
  },
  {
   "cell_type": "markdown",
   "metadata": {},
   "source": [
    "#### Let's see how the encoder models perform for a 2 times ahead prediction:"
   ]
  },
  {
   "cell_type": "code",
   "execution_count": 16,
   "metadata": {},
   "outputs": [],
   "source": [
    "mse = np.zeros((3,5))\n",
    "n_steps = 2\n",
    "for i in range(1,6):\n",
    "    for j,k in enumerate(['LSTM','GRU','SimpleRNN']):\n",
    "        X_train, y_train, X_test, y_test, scaler = DataPreparation_TimesAhead(MVSeries,i, n_steps, create_datasetMV_TimesAhead)\n",
    "        model = Recurrent_Model_ED(X_train, k, n_steps_ahead=n_steps)\n",
    "        model = TrainModel(X_train,y_train,model)\n",
    "        y_est = model.predict(X_test)\n",
    "        mse[j,i-1] = np.sqrt(mean_squared_error(scaler.inverse_transform(y_test.flatten().reshape(-1,1)), scaler.inverse_transform(y_est.flatten().reshape(-1,1))))\n",
    "Plot_Task2(mse)"
   ]
  },
  {
   "cell_type": "markdown",
   "metadata": {},
   "source": [
    "Now for a 3 times ahead prediction..."
   ]
  },
  {
   "cell_type": "code",
   "execution_count": 18,
   "metadata": {},
   "outputs": [],
   "source": [
    "mse = np.zeros((3,5))\n",
    "n_steps = 3\n",
    "for i in range(1,6):\n",
    "    for j,k in enumerate(['LSTM','GRU','SimpleRNN']):\n",
    "        X_train, y_train, X_test, y_test, scaler = DataPreparation_TimesAhead(MVSeries,i, n_steps, create_datasetMV_TimesAhead)\n",
    "        model = Recurrent_Model_ED(X_train, k, n_steps_ahead=n_steps)\n",
    "        model = TrainModel(X_train,y_train,model)\n",
    "        y_est = model.predict(X_test)\n",
    "        mse[j,i-1] = np.sqrt(mean_squared_error(scaler.inverse_transform(y_test.flatten().reshape(-1,1)), scaler.inverse_transform(y_est.flatten().reshape(-1,1))))\n",
    "Plot_Task2(mse)"
   ]
  },
  {
   "cell_type": "markdown",
   "metadata": {},
   "source": [
    "**UNGRADED TASK**\n",
    "\n",
    "Create two plots of the real and predicted time series for the multi-output and encoder-decoder models, similar to that created at the end of task 2. Use onle the last 400 samples of the real and test series. **Note**: pay attention to the shape of the output array for each type of architecture. You should get the following results:"
   ]
  },
  {
   "cell_type": "code",
   "execution_count": 2,
   "metadata": {},
   "outputs": [
    {
     "data": {
      "image/png": "[encoded data removed]",
      "text/plain": [
       "<IPython.core.display.Image object>"
      ]
     },
     "execution_count": 2,
     "metadata": {},
     "output_type": "execute_result"
    }
   ],
   "source": [
    "from IPython.display import Image\n",
    "Image(\"local/imgs/Recurrent_Model_MO.png\")"
   ]
  },
  {
   "cell_type": "code",
   "execution_count": 61,
   "metadata": {},
   "outputs": [
    {
     "data": {
      "image/png": "[encoded data removed]",
      "text/plain": [
       "<IPython.core.display.Image object>"
      ]
     },
     "execution_count": 61,
     "metadata": {},
     "output_type": "execute_result"
    }
   ],
   "source": [
    "Image(\"local/imgs/Recurrent_Model_ED.png\")"
   ]
  },
  {
   "cell_type": "code",
   "execution_count": null,
   "metadata": {},
   "outputs": [],
   "source": []
  }
 ],
 "metadata": {
  "kernelspec": {
   "display_name": "Python [conda env:root]",
   "language": "python",
   "name": "conda-root-py"
  },
  "language_info": {
   "codemirror_mode": {
    "name": "ipython",
    "version": 3
   },
   "file_extension": ".py",
   "mimetype": "text/x-python",
   "name": "python",
   "nbconvert_exporter": "python",
   "pygments_lexer": "ipython3",
   "version": "3.7.6"
  }
 },
 "nbformat": 4,
 "nbformat_minor": 2
}
